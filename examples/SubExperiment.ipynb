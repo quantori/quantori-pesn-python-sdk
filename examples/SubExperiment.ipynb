{
 "cells": [
  {
   "cell_type": "code",
   "execution_count": 1,
   "outputs": [],
   "source": [
    "%load_ext dotenv\n",
    "%dotenv\n",
    "import os\n",
    "\n",
    "SN_API_HOST = os.getenv('SN_API_HOST')\n",
    "SN_API_KEY = os.getenv('SN_API_KEY')"
   ],
   "metadata": {
    "collapsed": false,
    "pycharm": {
     "name": "#%%\n"
    }
   }
  },
  {
   "cell_type": "code",
   "execution_count": 2,
   "outputs": [
    {
     "data": {
      "text/plain": "<signals_notebook.api.SignalsNotebookApi at 0x231c69db5e0>"
     },
     "execution_count": 2,
     "metadata": {},
     "output_type": "execute_result"
    }
   ],
   "source": [
    "from signals_notebook.api import SignalsNotebookApi\n",
    "\n",
    "SignalsNotebookApi.init(SN_API_HOST, SN_API_KEY)"
   ],
   "metadata": {
    "collapsed": false,
    "pycharm": {
     "name": "#%%\n"
    }
   }
  },
  {
   "cell_type": "code",
   "execution_count": 3,
   "outputs": [
    {
     "data": {
      "text/plain": "SubExperiment(type=<EntityType.SUB_EXPERIMENT: 'parasubexp'>, eid='parasubexp:f4117cf4-b470-40c9-989f-1b465fcf6f74', digest='25430036', name='Sub-experiment-6', description='Test SubExperiment', created_at=datetime.datetime(2022, 8, 3, 8, 40, 54, 989000, tzinfo=datetime.timezone.utc), edited_at=datetime.datetime(2022, 8, 3, 8, 40, 54, 989000, tzinfo=datetime.timezone.utc))"
     },
     "execution_count": 3,
     "metadata": {},
     "output_type": "execute_result"
    }
   ],
   "source": [
    "from signals_notebook.entities import SubExperiment\n",
    "from signals_notebook.entities import EntityStore\n",
    "\n",
    "parallel_experiment = EntityStore.get('paraexp:c62e2c5e-952c-45d1-8f8d-bfa9ed786754')\n",
    "\n",
    "sub_experiment = SubExperiment.create(\n",
    "    description='Test SubExperiment',\n",
    "    parallel_experiment=parallel_experiment,\n",
    ")\n",
    "sub_experiment"
   ],
   "metadata": {
    "collapsed": false,
    "pycharm": {
     "name": "#%%\n"
    }
   }
  },
  {
   "cell_type": "code",
   "execution_count": 4,
   "outputs": [
    {
     "data": {
      "text/plain": "[ChemicalDrawing(type=<EntityType.CHEMICAL_DRAWING: 'chemicalDrawing'>, eid='chemicalDrawing:4b076f5b-66e2-4361-9d36-3c6ee0c7213e', digest='0', name='Chemical Drawing', description='', created_at=datetime.datetime(2022, 8, 3, 8, 40, 54, 989000, tzinfo=datetime.timezone.utc), edited_at=datetime.datetime(2022, 8, 3, 8, 40, 54, 989000, tzinfo=datetime.timezone.utc))]"
     },
     "execution_count": 4,
     "metadata": {},
     "output_type": "execute_result"
    }
   ],
   "source": [
    "list(sub_experiment.get_children())"
   ],
   "metadata": {
    "collapsed": false,
    "pycharm": {
     "name": "#%%\n"
    }
   }
  },
  {
   "cell_type": "code",
   "execution_count": 5,
   "outputs": [],
   "source": [
    "sub_experiment = EntityStore.get('parasubexp:76214b4c-f21a-4904-aac5-0b1fd9380c6c')"
   ],
   "metadata": {
    "collapsed": false,
    "pycharm": {
     "name": "#%%\n"
    }
   }
  },
  {
   "cell_type": "code",
   "execution_count": 6,
   "outputs": [
    {
     "data": {
      "text/plain": "<IPython.core.display.HTML object>",
      "text/html": "<!DOCTYPE html>\n<html lang=\"en\">\n<head>\n    <meta charset=\"utf-8\">\n    <meta name=\"viewport\" content=\"width=device-width, initial-scale=1.0\">\n    <link rel=\"icon\" href=\"data:;base64,iVBORw0KGgo=\">\n    <title>Sub-experiment-1</title>\n    <style>\n        h1 {\n            margin-top: 1.7rem;\n            margin-bottom: 0.3rem;\n            font-size: 1.6rem;\n        }\n\n        h2 {\n            margin-top: 1.2rem;\n            margin-bottom: 0.3rem;\n            font-size: 1.2rem;\n            color: #00A0E1;\n        }\n\n        table.props th, table.props td {\n            text-align: left;\n            padding: 3px;\n        }\n        .table-scroll {\n            overflow:auto;\n        }\n        .table-wrapper {\n            position:relative;\n        }\n        table, th, td {\n            border: 1px solid #cccccc;\n            border-collapse: collapse;\n            table-layout: fixed;\n        }\n        .table-wrapper th, td {\n            padding: 10px 20px;\n        }\n        .table-wrapper table td {\n            text-align: center;\n            vertical-align: middle;\n            padding: 5px;\n        }\n        .parent {\n            display: flex;\n            justify-content: center;\n            align-items: center;\n            width: 100%;\n            aspect-ratio: auto;\n        }\n        .image-container {\n            width: 60%;\n            height: 60%;\n            overflow: hidden;\n        }\n\n        .image-container img {\n            width: 100%;\n            min-height: 100%;\n            object-fit: cover;\n        }\n\n    </style>\n</head>\n<body>\n<table class=\"props\" style=\"margin: 10px 10px; padding: 6px 10px;\">\n    <tr>\n        <th>Experiment name:</th>\n        <td>Sub-experiment-1</td>\n    </tr>\n    <tr>\n        <th>Description:</th>\n        <td></td>\n    </tr>\n    <tr>\n        <th>Last edited at:</th>\n        <td>08:04:23 2022-08-03</td>\n    </tr>\n</table>\n\n\n<div style=\"margin: 10px 10px; padding: 6px 10px; border: solid 1px #f5f5f5;\">\n    <h2>Chemical Drawing</h2>\n\n    \n    <div class=\"parent\">\n        <div class=\"image-container\">\n            <img src=\"data:image/svg+xml;base64,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\" alt=\"Reaction preview\" style=\"width:100%\"/>\n        </div>\n    </div>\n    \n\n    <div style=\"margin: 10px 10px; padding: 6px 10px; border: solid 1px #f5f5f5;\">\n    \n        <div style=\"width: 100%;color: #999;padding: 2px 10px;\">Reactants</div>\n        \n<div class=\"table-wrapper\">\n    <div class=\"table-scroll\">\n        <table>\n            <thead>\n                <tr>\n                \n                    <th>Rxn ID</th>\n                \n                    <th>Reactant</th>\n                \n                    <th>MF</th>\n                \n                    <th>FM</th>\n                \n                    <th>MW</th>\n                \n                    <th>EM</th>\n                \n                    <th>Limit?</th>\n                \n                    <th>Eq</th>\n                \n                    <th>Sample Mass</th>\n                \n                    <th>Moles</th>\n                \n                    <th>Molarity</th>\n                \n                    <th>Vol</th>\n                \n                    <th>d</th>\n                \n                    <th>% Wt</th>\n                \n                </tr>\n            </thead>\n            <tbody>\n            \n                <tr>\n                \n                    <td>I</td>\n                \n                    <td>water</td>\n                \n                    <td>H<sub>2</sub>O</td>\n                \n                    <td>18.02 g/mol</td>\n                \n                    <td>18.02 g/mol</td>\n                \n                    <td>18.01056</td>\n                \n                    <td>True</td>\n                \n                    <td>1</td>\n                \n                    <td></td>\n                \n                    <td></td>\n                \n                    <td></td>\n                \n                    <td></td>\n                \n                    <td></td>\n                \n                    <td></td>\n                \n                </tr>\n            \n                <tr>\n                \n                    <td>II</td>\n                \n                    <td>sodium</td>\n                \n                    <td>Na</td>\n                \n                    <td>22.99 g/mol</td>\n                \n                    <td>22.99 g/mol</td>\n                \n                    <td>22.98977</td>\n                \n                    <td></td>\n                \n                    <td>1</td>\n                \n                    <td></td>\n                \n                    <td></td>\n                \n                    <td></td>\n                \n                    <td></td>\n                \n                    <td></td>\n                \n                    <td></td>\n                \n                </tr>\n            \n            </tbody>\n        </table>\n    </div>\n</div>\n\n    \n\n    \n        <div style=\"width: 100%;color: #999;padding: 2px 10px;\">Products</div>\n        \n<div class=\"table-wrapper\">\n    <div class=\"table-scroll\">\n        <table>\n            <thead>\n                <tr>\n                \n                    <th>Rxn ID</th>\n                \n                    <th>Product</th>\n                \n                    <th>MF</th>\n                \n                    <th>FM</th>\n                \n                    <th>MW</th>\n                \n                    <th>EM</th>\n                \n                    <th>Purity</th>\n                \n                    <th>d</th>\n                \n                </tr>\n            </thead>\n            <tbody>\n            \n                <tr>\n                \n                    <td>III</td>\n                \n                    <td>test</td>\n                \n                    <td>H<sub>2</sub></td>\n                \n                    <td>2.02 g/mol</td>\n                \n                    <td>2.02 g/mol</td>\n                \n                    <td>2.01565</td>\n                \n                    <td></td>\n                \n                    <td></td>\n                \n                </tr>\n            \n                <tr>\n                \n                    <td>IV</td>\n                \n                    <td>sodium hydroxide</td>\n                \n                    <td>HNaO</td>\n                \n                    <td>40 g/mol</td>\n                \n                    <td>40.00 g/mol</td>\n                \n                    <td>39.99251</td>\n                \n                    <td></td>\n                \n                    <td></td>\n                \n                </tr>\n            \n            </tbody>\n        </table>\n    </div>\n</div>\n\n    \n\n    \n\n    \n</div>\n\n</div>\n\n\n\n</body>\n</html>"
     },
     "metadata": {},
     "output_type": "display_data"
    }
   ],
   "source": [
    "import warnings # added to ignore deprecation warnings\n",
    "warnings.filterwarnings('ignore')\n",
    "\n",
    "from IPython.core.display import display, HTML\n",
    "\n",
    "sub_experiment_html = sub_experiment.get_html()\n",
    "display(HTML(data=sub_experiment_html))"
   ],
   "metadata": {
    "collapsed": false,
    "pycharm": {
     "name": "#%%\n"
    }
   }
  }
 ],
 "metadata": {
  "kernelspec": {
   "display_name": "Python 3",
   "language": "python",
   "name": "python3"
  },
  "language_info": {
   "codemirror_mode": {
    "name": "ipython",
    "version": 2
   },
   "file_extension": ".py",
   "mimetype": "text/x-python",
   "name": "python",
   "nbconvert_exporter": "python",
   "pygments_lexer": "ipython2",
   "version": "2.7.6"
  }
 },
 "nbformat": 4,
 "nbformat_minor": 0
}