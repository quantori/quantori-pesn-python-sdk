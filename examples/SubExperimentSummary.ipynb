{
 "cells": [
  {
   "cell_type": "code",
   "execution_count": 10,
   "outputs": [
    {
     "name": "stdout",
     "output_type": "stream",
     "text": [
      "The dotenv extension is already loaded. To reload it, use:\n",
      "  %reload_ext dotenv\n"
     ]
    }
   ],
   "source": [
    "%load_ext dotenv\n",
    "%dotenv\n",
    "import os\n",
    "\n",
    "SN_API_HOST = os.getenv('SN_API_HOST')\n",
    "SN_API_KEY = os.getenv('SN_API_KEY')"
   ],
   "metadata": {
    "collapsed": false,
    "pycharm": {
     "name": "#%%\n"
    }
   }
  },
  {
   "cell_type": "code",
   "execution_count": 11,
   "outputs": [
    {
     "data": {
      "text/plain": "<signals_notebook.api.SignalsNotebookApi at 0x2b802af2f70>"
     },
     "execution_count": 11,
     "metadata": {},
     "output_type": "execute_result"
    }
   ],
   "source": [
    "from signals_notebook.api import SignalsNotebookApi\n",
    "\n",
    "SignalsNotebookApi.init(SN_API_HOST, SN_API_KEY)"
   ],
   "metadata": {
    "collapsed": false,
    "pycharm": {
     "name": "#%%\n"
    }
   }
  },
  {
   "cell_type": "code",
   "execution_count": 14,
   "outputs": [
    {
     "data": {
      "text/plain": "SubExperimentSummary(type=<EntityType.SUB_EXPERIMENT_SUMMARY: 'paragrid'>, eid='paragrid:de6fd6ee-5f11-494a-a830-ca4e4f050422', digest='91265042', name='Products', description='', created_at=datetime.datetime(2022, 8, 3, 8, 3, 37, 313000, tzinfo=datetime.timezone.utc), edited_at=datetime.datetime(2022, 8, 3, 8, 13, 10, 691000, tzinfo=datetime.timezone.utc))"
     },
     "execution_count": 14,
     "metadata": {},
     "output_type": "execute_result"
    }
   ],
   "source": [
    "from signals_notebook.entities import EntityStore\n",
    "\n",
    "sub_experiment_summary = EntityStore.get('paragrid:de6fd6ee-5f11-494a-a830-ca4e4f050422')\n",
    "\n",
    "sub_experiment_summary"
   ],
   "metadata": {
    "collapsed": false,
    "pycharm": {
     "name": "#%%\n"
    }
   }
  },
  {
   "cell_type": "code",
   "execution_count": 15,
   "outputs": [],
   "source": [
    "sub_experiment_summary[0]['p1:name'].set_value('test')\n",
    "sub_experiment_summary.save()\n",
    "\n",
    "assert sub_experiment_summary[0]['p1:name'].value=='test'"
   ],
   "metadata": {
    "collapsed": false,
    "pycharm": {
     "name": "#%%\n"
    }
   }
  },
  {
   "cell_type": "code",
   "execution_count": 16,
   "outputs": [
    {
     "name": "stdout",
     "output_type": "stream",
     "text": [
      "id='chemicalDrawing:cd26d662-ed6e-405b-9ad5-1414f8c2a431' cells=[SubExperimentSummaryCell(key='2', display='Sub-experiment-1', value='parasubexp:76214b4c-f21a-4904-aac5-0b1fd9380c6c'), SubExperimentSummaryCell(key='p1:productid', display=None, value='P1'), SubExperimentSummaryCell(key='p1:name', display=None, value='test'), SubExperimentSummaryCell(key='p1:mf', display='2.02 g/mol', value='2.02'), SubExperimentSummaryCell(key='p1:formula', display=None, value='H<sub>2</sub>'), SubExperimentSummaryCell(key='p1:mw', display='2.02 g/mol', value='2.02'), SubExperimentSummaryCell(key='p1:em', display='2.01565', value='2.01565'), SubExperimentSummaryCell(key='p2:productid', display=None, value='P2'), SubExperimentSummaryCell(key='p2:name', display=None, value='sodium hydroxide'), SubExperimentSummaryCell(key='p2:mf', display='40.00 g/mol', value='40.0'), SubExperimentSummaryCell(key='p2:formula', display=None, value='HNaO'), SubExperimentSummaryCell(key='p2:mw', display='40.00 g/mol', value='40.0'), SubExperimentSummaryCell(key='p2:em', display='39.99251', value='39.99251')]\n",
      "id='chemicalDrawing:179bd301-9921-403a-81f9-454e2e348e60' cells=[SubExperimentSummaryCell(key='2', display='Sub-experiment-2', value='parasubexp:1a7ec78d-6602-4e75-807c-8db3b74c8701')]\n"
     ]
    }
   ],
   "source": [
    "for item in sub_experiment_summary:\n",
    "    print(item)"
   ],
   "metadata": {
    "collapsed": false,
    "pycharm": {
     "name": "#%%\n"
    }
   }
  },
  {
   "cell_type": "code",
   "execution_count": 17,
   "outputs": [
    {
     "data": {
      "text/plain": "<IPython.core.display.HTML object>",
      "text/html": "\n<div class=\"table-wrapper\" style=\"margin: 10px 10px; padding: 6px 10px; border: solid 1px #f5f5f5;\">\n    <div class=\"table-scroll\">\n        <h2>Products</h2>\n        <table>\n            <thead>\n                <tr>\n                \n                    <th>2</th>\n                \n                    <th>p1:productid</th>\n                \n                    <th>p1:name</th>\n                \n                    <th>p1:mf</th>\n                \n                    <th>p1:formula</th>\n                \n                    <th>p1:mw</th>\n                \n                    <th>p1:em</th>\n                \n                    <th>p2:productid</th>\n                \n                    <th>p2:name</th>\n                \n                    <th>p2:mf</th>\n                \n                    <th>p2:formula</th>\n                \n                    <th>p2:mw</th>\n                \n                    <th>p2:em</th>\n                \n                </tr>\n            </thead>\n            <tbody>\n                \n                <tr>\n                    \n                        \n                            <td>parasubexp:76214b4c-f21a-4904-aac5-0b1fd9380c6c</td>\n                        \n                    \n                        \n                            <td>P1</td>\n                        \n                    \n                        \n                            <td>test</td>\n                        \n                    \n                        \n                            <td>2.02</td>\n                        \n                    \n                        \n                            <td>H<sub>2</sub></td>\n                        \n                    \n                        \n                            <td>2.02</td>\n                        \n                    \n                        \n                            <td>2.01565</td>\n                        \n                    \n                        \n                            <td>P2</td>\n                        \n                    \n                        \n                            <td>sodium hydroxide</td>\n                        \n                    \n                        \n                            <td>40.0</td>\n                        \n                    \n                        \n                            <td>HNaO</td>\n                        \n                    \n                        \n                            <td>40.0</td>\n                        \n                    \n                        \n                            <td>39.99251</td>\n                        \n                    \n                </tr>\n                \n                <tr>\n                    \n                        \n                            <td>parasubexp:1a7ec78d-6602-4e75-807c-8db3b74c8701</td>\n                        \n                    \n                </tr>\n                \n            </tbody>\n        </table>\n    </div>\n</div>\n"
     },
     "metadata": {},
     "output_type": "display_data"
    }
   ],
   "source": [
    "import warnings # added to ignore deprecation warnings\n",
    "warnings.filterwarnings('ignore')\n",
    "\n",
    "from IPython.core.display import display, HTML\n",
    "\n",
    "experiment_html = sub_experiment_summary.get_html()\n",
    "display(HTML(data=experiment_html))  # pycharm cannot display html correctly. Use web version to see html response.\n"
   ],
   "metadata": {
    "collapsed": false,
    "pycharm": {
     "name": "#%%\n"
    }
   }
  }
 ],
 "metadata": {
  "kernelspec": {
   "display_name": "Python 3",
   "language": "python",
   "name": "python3"
  },
  "language_info": {
   "codemirror_mode": {
    "name": "ipython",
    "version": 2
   },
   "file_extension": ".py",
   "mimetype": "text/x-python",
   "name": "python",
   "nbconvert_exporter": "python",
   "pygments_lexer": "ipython2",
   "version": "2.7.6"
  }
 },
 "nbformat": 4,
 "nbformat_minor": 0
}