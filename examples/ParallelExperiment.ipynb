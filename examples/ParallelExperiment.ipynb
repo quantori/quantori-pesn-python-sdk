{
 "cells": [
  {
   "cell_type": "code",
   "execution_count": 1,
   "outputs": [],
   "source": [
    "%load_ext dotenv\n",
    "%dotenv\n",
    "import os\n",
    "\n",
    "SN_API_HOST = os.getenv('SN_API_HOST')\n",
    "SN_API_KEY = os.getenv('SN_API_KEY')"
   ],
   "metadata": {
    "collapsed": false,
    "pycharm": {
     "name": "#%%\n"
    }
   }
  },
  {
   "cell_type": "code",
   "execution_count": 2,
   "outputs": [
    {
     "data": {
      "text/plain": "<signals_notebook.api.SignalsNotebookApi at 0x210c1d79490>"
     },
     "execution_count": 2,
     "metadata": {},
     "output_type": "execute_result"
    }
   ],
   "source": [
    "from signals_notebook.api import SignalsNotebookApi\n",
    "\n",
    "SignalsNotebookApi.init(SN_API_HOST, SN_API_KEY)"
   ],
   "metadata": {
    "collapsed": false,
    "pycharm": {
     "name": "#%%\n"
    }
   }
  },
  {
   "cell_type": "code",
   "execution_count": 3,
   "outputs": [
    {
     "data": {
      "text/plain": "ParallelExperiment(type=<EntityType.PARALLEL_EXPERIMENT: 'paraexp'>, eid='paraexp:44160144-1f14-4b7c-892d-95e7faec7776', digest='63301648', name='Example parallel experiment created by SDK', description='Delete if you see this in UI', created_at=datetime.datetime(2022, 8, 3, 8, 10, 39, 559000, tzinfo=datetime.timezone.utc), edited_at=datetime.datetime(2022, 8, 3, 8, 10, 39, 559000, tzinfo=datetime.timezone.utc), state=<ParaExperimentState.OPEN: 'open'>)"
     },
     "execution_count": 3,
     "metadata": {},
     "output_type": "execute_result"
    }
   ],
   "source": [
    "from signals_notebook.entities import ParallelExperiment\n",
    "from signals_notebook.entities import EntityStore\n",
    "\n",
    "notebook = EntityStore.get('journal:9801ad65-9869-404f-80e8-5139a8d9ce03')\n",
    "\n",
    "parallel_experiment = ParallelExperiment.create(\n",
    "    name='Example parallel experiment created by SDK',\n",
    "    description='Delete if you see this in UI',\n",
    "    notebook=notebook,\n",
    ")\n",
    "parallel_experiment"
   ],
   "metadata": {
    "collapsed": false,
    "pycharm": {
     "name": "#%%\n"
    }
   }
  },
  {
   "cell_type": "code",
   "execution_count": 4,
   "outputs": [],
   "source": [
    "EntityStore.delete(parallel_experiment.eid)"
   ],
   "metadata": {
    "collapsed": false,
    "pycharm": {
     "name": "#%%\n"
    }
   }
  },
  {
   "cell_type": "code",
   "execution_count": 5,
   "outputs": [
    {
     "data": {
      "text/plain": "ParallelExperiment(type=<EntityType.PARALLEL_EXPERIMENT: 'paraexp'>, eid='paraexp:c62e2c5e-952c-45d1-8f8d-bfa9ed786754', digest='30196081', name='SDK', description='', created_at=datetime.datetime(2022, 8, 3, 8, 3, 37, 313000, tzinfo=datetime.timezone.utc), edited_at=datetime.datetime(2022, 8, 3, 8, 4, 11, 979000, tzinfo=datetime.timezone.utc), state=<ParaExperimentState.OPEN: 'open'>)"
     },
     "execution_count": 5,
     "metadata": {},
     "output_type": "execute_result"
    }
   ],
   "source": [
    "from signals_notebook.entities import EntityStore\n",
    "\n",
    "parallel_experiment = EntityStore.get(\"paraexp:c62e2c5e-952c-45d1-8f8d-bfa9ed786754\")\n",
    "\n",
    "parallel_experiment"
   ],
   "metadata": {
    "collapsed": false,
    "pycharm": {
     "name": "#%%\n"
    }
   }
  },
  {
   "cell_type": "code",
   "execution_count": 6,
   "outputs": [
    {
     "data": {
      "text/plain": "[ChemicalDrawing(type=<EntityType.CHEMICAL_DRAWING: 'chemicalDrawing'>, eid='chemicalDrawing:1fda851b-00bc-4e61-8296-aadb348f75cd', digest='97427732', name='Generic Reaction', description='', created_at=datetime.datetime(2022, 8, 3, 8, 3, 37, 313000, tzinfo=datetime.timezone.utc), edited_at=datetime.datetime(2022, 8, 3, 8, 4, 5, 393000, tzinfo=datetime.timezone.utc)),\n Text(type=<EntityType.TEXT: 'text'>, eid='text:6b7c14c3-0aad-4b23-81c0-fb78c3f23b3d', digest='10885783', name='Procedure', description='', created_at=datetime.datetime(2022, 8, 3, 8, 3, 37, 313000, tzinfo=datetime.timezone.utc), edited_at=datetime.datetime(2022, 8, 3, 8, 4, 9, 932000, tzinfo=datetime.timezone.utc)),\n SubExperimentSummary(type=<EntityType.SUB_EXPERIMENT_SUMMARY: 'paragrid'>, eid='paragrid:29995c6f-f573-4c8e-876d-4247453ca988', digest='89319865', name='Subexperiment Summary', description='', created_at=datetime.datetime(2022, 8, 3, 8, 3, 37, 313000, tzinfo=datetime.timezone.utc), edited_at=datetime.datetime(2022, 8, 3, 8, 4, 40, 202000, tzinfo=datetime.timezone.utc)),\n SubExperimentSummary(type=<EntityType.SUB_EXPERIMENT_SUMMARY: 'paragrid'>, eid='paragrid:de6fd6ee-5f11-494a-a830-ca4e4f050422', digest='82295398', name='Products', description='', created_at=datetime.datetime(2022, 8, 3, 8, 3, 37, 313000, tzinfo=datetime.timezone.utc), edited_at=datetime.datetime(2022, 8, 3, 8, 4, 40, 202000, tzinfo=datetime.timezone.utc)),\n SubExperimentSummary(type=<EntityType.SUB_EXPERIMENT_SUMMARY: 'paragrid'>, eid='paragrid:47d1f074-b2c1-48a6-b132-c0c5667611a3', digest='56540482', name='Reactions', description='', created_at=datetime.datetime(2022, 8, 3, 8, 3, 37, 313000, tzinfo=datetime.timezone.utc), edited_at=datetime.datetime(2022, 8, 3, 8, 4, 40, 202000, tzinfo=datetime.timezone.utc)),\n SubExperimentSummary(type=<EntityType.SUB_EXPERIMENT_SUMMARY: 'paragrid'>, eid='paragrid:7ecac92e-ec30-4bb4-a9bd-96b7397d1376', digest='20208510', name='Reactants', description='', created_at=datetime.datetime(2022, 8, 3, 8, 3, 37, 313000, tzinfo=datetime.timezone.utc), edited_at=datetime.datetime(2022, 8, 3, 8, 4, 40, 202000, tzinfo=datetime.timezone.utc)),\n SubExperiment(type=<EntityType.SUB_EXPERIMENT: 'parasubexp'>, eid='parasubexp:76214b4c-f21a-4904-aac5-0b1fd9380c6c', digest='93411093', name='Sub-experiment-1', description='', created_at=datetime.datetime(2022, 8, 3, 8, 4, 23, 967000, tzinfo=datetime.timezone.utc), edited_at=datetime.datetime(2022, 8, 3, 8, 4, 23, 967000, tzinfo=datetime.timezone.utc))]"
     },
     "execution_count": 6,
     "metadata": {},
     "output_type": "execute_result"
    }
   ],
   "source": [
    "list(parallel_experiment.get_children())"
   ],
   "metadata": {
    "collapsed": false,
    "pycharm": {
     "name": "#%%\n"
    }
   }
  },
  {
   "cell_type": "code",
   "execution_count": 7,
   "outputs": [
    {
     "data": {
      "text/plain": "<IPython.core.display.HTML object>",
      "text/html": "<!DOCTYPE html>\n<html lang=\"en\">\n<head>\n    <meta charset=\"utf-8\">\n    <meta name=\"viewport\" content=\"width=device-width, initial-scale=1.0\">\n    <link rel=\"icon\" href=\"data:;base64,iVBORw0KGgo=\">\n    <title>SDK</title>\n    <style>\n        h1 {\n            margin-top: 1.7rem;\n            margin-bottom: 0.3rem;\n            font-size: 1.6rem;\n        }\n\n        h2 {\n            margin-top: 1.2rem;\n            margin-bottom: 0.3rem;\n            font-size: 1.2rem;\n            color: #00A0E1;\n        }\n\n        table.props th, table.props td {\n            text-align: left;\n            padding: 3px;\n        }\n        .table-scroll {\n            overflow:auto;\n        }\n        .table-wrapper {\n            position:relative;\n        }\n        table, th, td {\n            border: 1px solid #cccccc;\n            border-collapse: collapse;\n            table-layout: fixed;\n        }\n        .table-wrapper th, td {\n            padding: 10px 20px;\n        }\n        .table-wrapper table td {\n            text-align: center;\n            vertical-align: middle;\n            padding: 5px;\n        }\n        .parent {\n            display: flex;\n            justify-content: center;\n            align-items: center;\n            width: 100%;\n            aspect-ratio: auto;\n        }\n        .image-container {\n            width: 60%;\n            height: 60%;\n            overflow: hidden;\n        }\n\n        .image-container img {\n            width: 100%;\n            min-height: 100%;\n            object-fit: cover;\n        }\n\n    </style>\n</head>\n<body>\n<table class=\"props\" style=\"margin: 10px 10px; padding: 6px 10px;\">\n    <tr>\n        <th>Experiment name:</th>\n        <td>SDK</td>\n    </tr>\n    <tr>\n        <th>Description:</th>\n        <td></td>\n    </tr>\n    <tr>\n        <th>Last edited at:</th>\n        <td>08:04:11 2022-08-03</td>\n    </tr>\n    <tr>\n        <th>State:</th>\n        <td>open</td>\n    </tr>\n</table>\n\n\n<div style=\"margin: 10px 10px; padding: 6px 10px; border: solid 1px #f5f5f5;\">\n    <h2>Generic Reaction</h2>\n\n    \n    <div class=\"parent\">\n        <div class=\"image-container\">\n            <img src=\"data:image/svg+xml;base64,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\" alt=\"Reaction preview\" style=\"width:100%\"/>\n        </div>\n    </div>\n    \n\n    <div style=\"margin: 10px 10px; padding: 6px 10px; border: solid 1px #f5f5f5;\">\n    \n        <div style=\"width: 100%;color: #999;padding: 2px 10px;\">Reactants</div>\n        \n<div class=\"table-wrapper\">\n    <div class=\"table-scroll\">\n        <table>\n            <thead>\n                <tr>\n                \n                    <th>Rxn ID</th>\n                \n                    <th>Reactant</th>\n                \n                    <th>MF</th>\n                \n                    <th>FM</th>\n                \n                    <th>MW</th>\n                \n                    <th>EM</th>\n                \n                    <th>Limit?</th>\n                \n                    <th>Eq</th>\n                \n                    <th>Sample Mass</th>\n                \n                    <th>Moles</th>\n                \n                    <th>Molarity</th>\n                \n                    <th>Vol</th>\n                \n                    <th>d</th>\n                \n                    <th>% Wt</th>\n                \n                </tr>\n            </thead>\n            <tbody>\n            \n                <tr>\n                \n                    <td>I</td>\n                \n                    <td>water</td>\n                \n                    <td>H<sub>2</sub>O</td>\n                \n                    <td>18.02 g/mol</td>\n                \n                    <td>18.02 g/mol</td>\n                \n                    <td>18.01056</td>\n                \n                    <td>True</td>\n                \n                    <td>1</td>\n                \n                    <td></td>\n                \n                    <td></td>\n                \n                    <td></td>\n                \n                    <td></td>\n                \n                    <td></td>\n                \n                    <td></td>\n                \n                </tr>\n            \n                <tr>\n                \n                    <td>II</td>\n                \n                    <td>sodium</td>\n                \n                    <td>Na</td>\n                \n                    <td>22.99 g/mol</td>\n                \n                    <td>22.99 g/mol</td>\n                \n                    <td>22.98977</td>\n                \n                    <td></td>\n                \n                    <td>1</td>\n                \n                    <td></td>\n                \n                    <td></td>\n                \n                    <td></td>\n                \n                    <td></td>\n                \n                    <td></td>\n                \n                    <td></td>\n                \n                </tr>\n            \n            </tbody>\n        </table>\n    </div>\n</div>\n\n    \n\n    \n        <div style=\"width: 100%;color: #999;padding: 2px 10px;\">Products</div>\n        \n<div class=\"table-wrapper\">\n    <div class=\"table-scroll\">\n        <table>\n            <thead>\n                <tr>\n                \n                    <th>Rxn ID</th>\n                \n                    <th>Product</th>\n                \n                    <th>MF</th>\n                \n                    <th>FM</th>\n                \n                    <th>MW</th>\n                \n                    <th>EM</th>\n                \n                    <th>Purity</th>\n                \n                    <th>d</th>\n                \n                </tr>\n            </thead>\n            <tbody>\n            \n                <tr>\n                \n                    <td>III</td>\n                \n                    <td>dihydrogen</td>\n                \n                    <td>H<sub>2</sub></td>\n                \n                    <td>2.02 g/mol</td>\n                \n                    <td>2.02 g/mol</td>\n                \n                    <td>2.01565</td>\n                \n                    <td></td>\n                \n                    <td></td>\n                \n                </tr>\n            \n                <tr>\n                \n                    <td>IV</td>\n                \n                    <td>sodium hydroxide</td>\n                \n                    <td>HNaO</td>\n                \n                    <td>40 g/mol</td>\n                \n                    <td>40.00 g/mol</td>\n                \n                    <td>39.99251</td>\n                \n                    <td></td>\n                \n                    <td></td>\n                \n                </tr>\n            \n            </tbody>\n        </table>\n    </div>\n</div>\n\n    \n\n    \n\n    \n</div>\n\n</div>\n\n<div style=\"margin: 10px 10px; padding: 6px 10px; border: solid 1px #f5f5f5;\">\n    <h2>Procedure</h2>\n    <div>\n        <span><p>pp</p></span>\n    </div>\n</div>\n\n\n<div class=\"table-wrapper\" style=\"margin: 10px 10px; padding: 6px 10px; border: solid 1px #f5f5f5;\">\n    <div class=\"table-scroll\">\n        <h2>Subexperiment Summary</h2>\n        <table>\n            <thead>\n                <tr>\n                \n                    <th>2</th>\n                \n                </tr>\n            </thead>\n            <tbody>\n                \n                <tr>\n                    \n                        \n                            <td>parasubexp:76214b4c-f21a-4904-aac5-0b1fd9380c6c</td>\n                        \n                    \n                </tr>\n                \n            </tbody>\n        </table>\n    </div>\n</div>\n\n\n\n<div class=\"table-wrapper\" style=\"margin: 10px 10px; padding: 6px 10px; border: solid 1px #f5f5f5;\">\n    <div class=\"table-scroll\">\n        <h2>Products</h2>\n        <table>\n            <thead>\n                <tr>\n                \n                    <th>2</th>\n                \n                    <th>p1:productid</th>\n                \n                    <th>p1:name</th>\n                \n                    <th>p1:mf</th>\n                \n                    <th>p1:formula</th>\n                \n                    <th>p1:mw</th>\n                \n                    <th>p1:em</th>\n                \n                </tr>\n            </thead>\n            <tbody>\n                \n                <tr>\n                    \n                        \n                            <td>parasubexp:76214b4c-f21a-4904-aac5-0b1fd9380c6c</td>\n                        \n                    \n                        \n                            <td>P1</td>\n                        \n                    \n                        \n                            <td>dihydrogen</td>\n                        \n                    \n                        \n                            <td>2.02</td>\n                        \n                    \n                        \n                            <td>H<sub>2</sub></td>\n                        \n                    \n                        \n                            <td>2.02</td>\n                        \n                    \n                        \n                            <td>2.01565</td>\n                        \n                    \n                </tr>\n                \n            </tbody>\n        </table>\n    </div>\n</div>\n\n\n\n<div class=\"table-wrapper\" style=\"margin: 10px 10px; padding: 6px 10px; border: solid 1px #f5f5f5;\">\n    <div class=\"table-scroll\">\n        <h2>Reactions</h2>\n        <table>\n            <thead>\n                <tr>\n                \n                    <th>2</th>\n                \n                </tr>\n            </thead>\n            <tbody>\n                \n                <tr>\n                    \n                        \n                            <td>parasubexp:76214b4c-f21a-4904-aac5-0b1fd9380c6c</td>\n                        \n                    \n                </tr>\n                \n            </tbody>\n        </table>\n    </div>\n</div>\n\n\n\n<div class=\"table-wrapper\" style=\"margin: 10px 10px; padding: 6px 10px; border: solid 1px #f5f5f5;\">\n    <div class=\"table-scroll\">\n        <h2>Reactants</h2>\n        <table>\n            <thead>\n                <tr>\n                \n                    <th>2</th>\n                \n                    <th>r1:name</th>\n                \n                    <th>r1:mf</th>\n                \n                    <th>r1:formula</th>\n                \n                    <th>r1:mw</th>\n                \n                    <th>r2:name</th>\n                \n                    <th>r2:mf</th>\n                \n                    <th>r2:formula</th>\n                \n                    <th>r2:mw</th>\n                \n                </tr>\n            </thead>\n            <tbody>\n                \n                <tr>\n                    \n                        \n                            <td>parasubexp:76214b4c-f21a-4904-aac5-0b1fd9380c6c</td>\n                        \n                    \n                        \n                            <td>water</td>\n                        \n                    \n                        \n                            <td>18.02</td>\n                        \n                    \n                        \n                            <td>H<sub>2</sub>O</td>\n                        \n                    \n                        \n                            <td>18.02</td>\n                        \n                    \n                        \n                            <td>sodium</td>\n                        \n                    \n                        \n                            <td>22.99</td>\n                        \n                    \n                        \n                            <td>Na</td>\n                        \n                    \n                        \n                            <td>22.99</td>\n                        \n                    \n                </tr>\n                \n            </tbody>\n        </table>\n    </div>\n</div>\n\n\n<!DOCTYPE html>\n<html lang=\"en\">\n<head>\n    <meta charset=\"utf-8\">\n    <meta name=\"viewport\" content=\"width=device-width, initial-scale=1.0\">\n    <link rel=\"icon\" href=\"data:;base64,iVBORw0KGgo=\">\n    <title>Sub-experiment-1</title>\n    <style>\n        h1 {\n            margin-top: 1.7rem;\n            margin-bottom: 0.3rem;\n            font-size: 1.6rem;\n        }\n\n        h2 {\n            margin-top: 1.2rem;\n            margin-bottom: 0.3rem;\n            font-size: 1.2rem;\n            color: #00A0E1;\n        }\n\n        table.props th, table.props td {\n            text-align: left;\n            padding: 3px;\n        }\n        .table-scroll {\n            overflow:auto;\n        }\n        .table-wrapper {\n            position:relative;\n        }\n        table, th, td {\n            border: 1px solid #cccccc;\n            border-collapse: collapse;\n            table-layout: fixed;\n        }\n        .table-wrapper th, td {\n            padding: 10px 20px;\n        }\n        .table-wrapper table td {\n            text-align: center;\n            vertical-align: middle;\n            padding: 5px;\n        }\n        .parent {\n            display: flex;\n            justify-content: center;\n            align-items: center;\n            width: 100%;\n            aspect-ratio: auto;\n        }\n        .image-container {\n            width: 60%;\n            height: 60%;\n            overflow: hidden;\n        }\n\n        .image-container img {\n            width: 100%;\n            min-height: 100%;\n            object-fit: cover;\n        }\n\n    </style>\n</head>\n<body>\n<table class=\"props\" style=\"margin: 10px 10px; padding: 6px 10px;\">\n    <tr>\n        <th>Experiment name:</th>\n        <td>Sub-experiment-1</td>\n    </tr>\n    <tr>\n        <th>Description:</th>\n        <td></td>\n    </tr>\n    <tr>\n        <th>Last edited at:</th>\n        <td>08:04:23 2022-08-03</td>\n    </tr>\n</table>\n\n\n<div style=\"margin: 10px 10px; padding: 6px 10px; border: solid 1px #f5f5f5;\">\n    <h2>Chemical Drawing</h2>\n\n    \n    <div class=\"parent\">\n        <div class=\"image-container\">\n            <img src=\"data:image/svg+xml;base64,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\" alt=\"Reaction preview\" style=\"width:100%\"/>\n        </div>\n    </div>\n    \n\n    <div style=\"margin: 10px 10px; padding: 6px 10px; border: solid 1px #f5f5f5;\">\n    \n        <div style=\"width: 100%;color: #999;padding: 2px 10px;\">Reactants</div>\n        \n<div class=\"table-wrapper\">\n    <div class=\"table-scroll\">\n        <table>\n            <thead>\n                <tr>\n                \n                    <th>Rxn ID</th>\n                \n                    <th>Reactant</th>\n                \n                    <th>MF</th>\n                \n                    <th>FM</th>\n                \n                    <th>MW</th>\n                \n                    <th>EM</th>\n                \n                    <th>Limit?</th>\n                \n                    <th>Eq</th>\n                \n                    <th>Sample Mass</th>\n                \n                    <th>Moles</th>\n                \n                    <th>Molarity</th>\n                \n                    <th>Vol</th>\n                \n                    <th>d</th>\n                \n                    <th>% Wt</th>\n                \n                </tr>\n            </thead>\n            <tbody>\n            \n                <tr>\n                \n                    <td>I</td>\n                \n                    <td>water</td>\n                \n                    <td>H<sub>2</sub>O</td>\n                \n                    <td>18.02 g/mol</td>\n                \n                    <td>18.02 g/mol</td>\n                \n                    <td>18.01056</td>\n                \n                    <td>True</td>\n                \n                    <td>1</td>\n                \n                    <td></td>\n                \n                    <td></td>\n                \n                    <td></td>\n                \n                    <td></td>\n                \n                    <td></td>\n                \n                    <td></td>\n                \n                </tr>\n            \n                <tr>\n                \n                    <td>II</td>\n                \n                    <td>sodium</td>\n                \n                    <td>Na</td>\n                \n                    <td>22.99 g/mol</td>\n                \n                    <td>22.99 g/mol</td>\n                \n                    <td>22.98977</td>\n                \n                    <td></td>\n                \n                    <td>1</td>\n                \n                    <td></td>\n                \n                    <td></td>\n                \n                    <td></td>\n                \n                    <td></td>\n                \n                    <td></td>\n                \n                    <td></td>\n                \n                </tr>\n            \n            </tbody>\n        </table>\n    </div>\n</div>\n\n    \n\n    \n        <div style=\"width: 100%;color: #999;padding: 2px 10px;\">Products</div>\n        \n<div class=\"table-wrapper\">\n    <div class=\"table-scroll\">\n        <table>\n            <thead>\n                <tr>\n                \n                    <th>Rxn ID</th>\n                \n                    <th>Product</th>\n                \n                    <th>MF</th>\n                \n                    <th>FM</th>\n                \n                    <th>MW</th>\n                \n                    <th>EM</th>\n                \n                    <th>Purity</th>\n                \n                    <th>d</th>\n                \n                </tr>\n            </thead>\n            <tbody>\n            \n                <tr>\n                \n                    <td>III</td>\n                \n                    <td>dihydrogen</td>\n                \n                    <td>H<sub>2</sub></td>\n                \n                    <td>2.02 g/mol</td>\n                \n                    <td>2.02 g/mol</td>\n                \n                    <td>2.01565</td>\n                \n                    <td></td>\n                \n                    <td></td>\n                \n                </tr>\n            \n            </tbody>\n        </table>\n    </div>\n</div>\n\n    \n\n    \n\n    \n</div>\n\n</div>\n\n\n\n</body>\n</html>\n\n\n\n</body>\n</html>"
     },
     "metadata": {},
     "output_type": "display_data"
    }
   ],
   "source": [
    "import warnings  # added to ignore deprecation warnings\n",
    "\n",
    "warnings.filterwarnings('ignore')\n",
    "\n",
    "from IPython.core.display import display, HTML\n",
    "\n",
    "experiment_html = parallel_experiment.get_html()\n",
    "display(HTML(data=experiment_html))  # pycharm cannot display html correctly. Use web version to see html response."
   ],
   "metadata": {
    "collapsed": false,
    "pycharm": {
     "name": "#%%\n"
    }
   }
  }
 ],
 "metadata": {
  "kernelspec": {
   "display_name": "Python 3",
   "language": "python",
   "name": "python3"
  },
  "language_info": {
   "codemirror_mode": {
    "name": "ipython",
    "version": 2
   },
   "file_extension": ".py",
   "mimetype": "text/x-python",
   "name": "python",
   "nbconvert_exporter": "python",
   "pygments_lexer": "ipython2",
   "version": "2.7.6"
  }
 },
 "nbformat": 4,
 "nbformat_minor": 0
}