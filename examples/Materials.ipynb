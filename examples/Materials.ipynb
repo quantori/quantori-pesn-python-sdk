{
 "cells": [
  {
   "cell_type": "code",
   "execution_count": 1,
   "outputs": [],
   "source": [
    "%load_ext dotenv\n",
    "%dotenv\n",
    "import os\n",
    "\n",
    "SN_API_HOST = os.getenv('SN_API_HOST')\n",
    "SN_API_KEY = os.getenv('SN_API_KEY')"
   ],
   "metadata": {
    "collapsed": false,
    "pycharm": {
     "name": "#%%\n"
    }
   }
  },
  {
   "cell_type": "code",
   "execution_count": 2,
   "metadata": {
    "collapsed": true,
    "pycharm": {
     "name": "#%%\n"
    }
   },
   "outputs": [
    {
     "data": {
      "text/plain": "<signals_notebook.api.SignalsNotebookApi at 0x162b3c80070>"
     },
     "execution_count": 2,
     "metadata": {},
     "output_type": "execute_result"
    }
   ],
   "source": [
    "from signals_notebook.api import SignalsNotebookApi\n",
    "SignalsNotebookApi.init(SN_API_HOST, SN_API_KEY)"
   ]
  },
  {
   "cell_type": "code",
   "execution_count": 3,
   "outputs": [],
   "source": [
    "from signals_notebook.materials import Library, MaterialStore\n",
    "from signals_notebook.common_types import MID, ChemicalDrawingFormat\n",
    "from signals_notebook.exceptions import SignalsNotebookError"
   ],
   "metadata": {
    "collapsed": false,
    "pycharm": {
     "name": "#%%\n"
    }
   }
  },
  {
   "cell_type": "markdown",
   "source": [],
   "metadata": {
    "collapsed": false,
    "pycharm": {
     "name": "#%% md\n"
    }
   }
  },
  {
   "cell_type": "code",
   "execution_count": 4,
   "outputs": [
    {
     "name": "stdout",
     "output_type": "stream",
     "text": [
      "assetType:6172be4052faff0007501162 Reagents (SNB)\n",
      "assetType:6172be4052faff000750119c Cell Lines\n",
      "assetType:6172be4052faff0007501181 Plasmids\n",
      "assetType:6172be4052faff0007501154 Compounds\n",
      "assetType:6172be4052faff00075011b1 Primers\n",
      "assetType:6172be4052faff0007501193 Equipment\n",
      "assetType:6172be4052faff00075011c3 Antibodies\n",
      "assetType:619656d40669900007d69414 Units\n",
      "assetType:61a762b80669900007d6ab50 Lab animal\n",
      "assetType:61e9451ac8bce24516f8f90c Lab animal 1\n",
      "assetType:61faa3e76ed5f16677f438af Indicators\n",
      "assetType:61fbb713587d0c711fdd7e03 Brain sections\n",
      "assetType:620580c6587d0c711fdd84e9 Solvents for optical investigations\n",
      "assetType:620b971e9a486b3ddae61f4f Culture medias\n",
      "assetType:620dddad587d0c711fdd8862 Compound for OLED cell\n",
      "assetType:621701e99a486b3ddae63bc0 Brain photo\n",
      "assetType:625436287e0e8f57cc5cd892 DNAMaterials\n",
      "assetType:62da6564d33f8760ff9e8341 Compounds copy\n",
      "assetType:62debcf9d33f8760ff9e8af5 Lab Animal 1 Restore\n",
      "assetType:62dec178d33f8760ff9e8b01 Reagents (SNB) Copy2\n"
     ]
    }
   ],
   "source": [
    "libraries = Library.get_list()\n",
    "libraries_dict = {}\n",
    "for lib in libraries:\n",
    "    libraries_dict[lib.name] = lib\n",
    "    print(lib.eid, lib.name)"
   ],
   "metadata": {
    "collapsed": false,
    "pycharm": {
     "name": "#%%\n"
    }
   }
  },
  {
   "cell_type": "code",
   "execution_count": 5,
   "outputs": [],
   "source": [
    "primer_lib = MaterialStore.get(MID('assetType:6172be4052faff00075011b1'))"
   ],
   "metadata": {
    "collapsed": false,
    "pycharm": {
     "name": "#%%\n"
    }
   }
  },
  {
   "cell_type": "code",
   "execution_count": 6,
   "outputs": [],
   "source": [
    "asset = MaterialStore.get(MID('asset:618d2ff60669900007d68718'))"
   ],
   "metadata": {
    "collapsed": false,
    "pycharm": {
     "name": "#%%\n"
    }
   }
  },
  {
   "cell_type": "code",
   "execution_count": 7,
   "outputs": [
    {
     "data": {
      "text/plain": "[Batch(asset_type_id='6172be4052faff00075011c3', eid='batch:618d2ff70669900007d68719', library_name='Antibodies', digest='56506129', name=' 0001- 0001', created_at=datetime.datetime(2021, 11, 11, 15, 0, 8, 24000, tzinfo=datetime.timezone.utc), edited_at=datetime.datetime(2021, 11, 11, 15, 0, 8, 24000, tzinfo=datetime.timezone.utc), type=<MaterialType.BATCH: 'batch'>)]"
     },
     "execution_count": 7,
     "metadata": {},
     "output_type": "execute_result"
    }
   ],
   "source": [
    "list(asset.get_batches())"
   ],
   "metadata": {
    "collapsed": false,
    "pycharm": {
     "name": "#%%\n"
    }
   }
  },
  {
   "cell_type": "code",
   "execution_count": 8,
   "outputs": [
    {
     "data": {
      "text/plain": "Library(asset_type_id='6172be4052faff00075011c3', eid='assetType:6172be4052faff00075011c3', library_name='Antibodies', digest='47354405', name='Antibodies', created_at=datetime.datetime(2021, 10, 22, 13, 36, 0, 479000, tzinfo=datetime.timezone.utc), edited_at=datetime.datetime(2022, 4, 9, 12, 8, 50, 561000, tzinfo=datetime.timezone.utc), type=<MaterialType.LIBRARY: 'assetType'>)"
     },
     "execution_count": 8,
     "metadata": {},
     "output_type": "execute_result"
    }
   ],
   "source": [
    "asset.library"
   ],
   "metadata": {
    "collapsed": false,
    "pycharm": {
     "name": "#%%\n"
    }
   }
  },
  {
   "cell_type": "code",
   "execution_count": 9,
   "outputs": [],
   "source": [
    "batch = MaterialStore.get(MID('batch:618d2ff70669900007d68719'))\n"
   ],
   "metadata": {
    "collapsed": false,
    "pycharm": {
     "name": "#%%\n"
    }
   }
  },
  {
   "cell_type": "code",
   "execution_count": 10,
   "outputs": [
    {
     "data": {
      "text/plain": "Library(asset_type_id='6172be4052faff00075011c3', eid='assetType:6172be4052faff00075011c3', library_name='Antibodies', digest='47354405', name='Antibodies', created_at=datetime.datetime(2021, 10, 22, 13, 36, 0, 479000, tzinfo=datetime.timezone.utc), edited_at=datetime.datetime(2022, 4, 9, 12, 8, 50, 561000, tzinfo=datetime.timezone.utc), type=<MaterialType.LIBRARY: 'assetType'>)"
     },
     "execution_count": 10,
     "metadata": {},
     "output_type": "execute_result"
    }
   ],
   "source": [
    "batch.library\n"
   ],
   "metadata": {
    "collapsed": false,
    "pycharm": {
     "name": "#%%\n"
    }
   }
  },
  {
   "cell_type": "code",
   "execution_count": 11,
   "outputs": [
    {
     "data": {
      "text/plain": "Asset(asset_type_id='6172be4052faff00075011b1', eid='asset:6202d73d9a486b3ddae616a7', library_name='Primers', digest='56300536', name='PKI-000022', created_at=datetime.datetime(2022, 2, 8, 20, 49, 1, 985000, tzinfo=datetime.timezone.utc), edited_at=datetime.datetime(2022, 2, 8, 20, 49, 1, 985000, tzinfo=datetime.timezone.utc), type=<MaterialType.ASSET: 'asset'>)"
     },
     "execution_count": 11,
     "metadata": {},
     "output_type": "execute_result"
    }
   ],
   "source": [
    "primer_lib.get_asset('PKI-000022')"
   ],
   "metadata": {
    "collapsed": false,
    "pycharm": {
     "name": "#%%\n"
    }
   }
  },
  {
   "cell_type": "code",
   "execution_count": 12,
   "outputs": [
    {
     "data": {
      "text/plain": "[Batch(asset_type_id='6172be4052faff00075011b1', eid='batch:61e9827408ab291334b232d4', library_name='Primers', digest='43394085', name='PKI-000013-0001', created_at=datetime.datetime(2022, 1, 20, 15, 40, 36, 583000, tzinfo=datetime.timezone.utc), edited_at=datetime.datetime(2022, 1, 20, 15, 40, 36, 583000, tzinfo=datetime.timezone.utc), type=<MaterialType.BATCH: 'batch'>)]"
     },
     "execution_count": 12,
     "metadata": {},
     "output_type": "execute_result"
    }
   ],
   "source": [
    "primer_lib.get_asset_batches('PKI-000013')"
   ],
   "metadata": {
    "collapsed": false,
    "pycharm": {
     "name": "#%%\n"
    }
   }
  },
  {
   "cell_type": "code",
   "execution_count": 13,
   "outputs": [
    {
     "data": {
      "text/plain": "Batch(asset_type_id='6172be4052faff00075011b1', eid='batch:61a63aed0669900007d6a0fd', library_name='Primers', digest='84236581', name='PKI-000001-0001', created_at=datetime.datetime(2021, 11, 30, 14, 53, 33, 441000, tzinfo=datetime.timezone.utc), edited_at=datetime.datetime(2021, 12, 1, 16, 10, 53, 701000, tzinfo=datetime.timezone.utc), type=<MaterialType.BATCH: 'batch'>)"
     },
     "execution_count": 13,
     "metadata": {},
     "output_type": "execute_result"
    }
   ],
   "source": [
    "primer_lib.get_batch('PKI-000001-0001')"
   ],
   "metadata": {
    "collapsed": false,
    "pycharm": {
     "name": "#%%\n"
    }
   }
  },
  {
   "cell_type": "markdown",
   "source": [
    "# Get drawing"
   ],
   "metadata": {
    "collapsed": false,
    "pycharm": {
     "name": "#%% md\n"
    }
   }
  },
  {
   "cell_type": "code",
   "execution_count": 14,
   "outputs": [
    {
     "ename": "NameError",
     "evalue": "name 'compound_lib' is not defined",
     "output_type": "error",
     "traceback": [
      "\u001B[1;31m---------------------------------------------------------------------------\u001B[0m",
      "\u001B[1;31mNameError\u001B[0m                                 Traceback (most recent call last)",
      "Input \u001B[1;32mIn [14]\u001B[0m, in \u001B[0;36m<cell line: 4>\u001B[1;34m()\u001B[0m\n\u001B[0;32m      1\u001B[0m \u001B[38;5;28;01mfrom\u001B[39;00m \u001B[38;5;21;01mIPython\u001B[39;00m\u001B[38;5;21;01m.\u001B[39;00m\u001B[38;5;21;01mdisplay\u001B[39;00m \u001B[38;5;28;01mimport\u001B[39;00m SVG\n\u001B[1;32m----> 4\u001B[0m compound_asset \u001B[38;5;241m=\u001B[39m \u001B[43mcompound_lib\u001B[49m\u001B[38;5;241m.\u001B[39mget_asset(\u001B[38;5;124m'\u001B[39m\u001B[38;5;124mCPD-000020\u001B[39m\u001B[38;5;124m'\u001B[39m)\n\u001B[0;32m      5\u001B[0m \u001B[38;5;28mprint\u001B[39m(compound_asset[\u001B[38;5;124m'\u001B[39m\u001B[38;5;124mChemical Name\u001B[39m\u001B[38;5;124m'\u001B[39m])\n\u001B[0;32m      6\u001B[0m svg_file \u001B[38;5;241m=\u001B[39m compound_asset\u001B[38;5;241m.\u001B[39mget_chemical_drawing(ChemicalDrawingFormat\u001B[38;5;241m.\u001B[39mSVG)\n",
      "\u001B[1;31mNameError\u001B[0m: name 'compound_lib' is not defined"
     ]
    }
   ],
   "source": [
    "from IPython.display import SVG\n",
    "\n",
    "\n",
    "compound_asset = compound_lib.get_asset('CPD-000020')\n",
    "print(compound_asset['Chemical Name'])\n",
    "svg_file = compound_asset.get_chemical_drawing(ChemicalDrawingFormat.SVG)\n",
    "SVG(data=svg_file.content)"
   ],
   "metadata": {
    "collapsed": false,
    "pycharm": {
     "name": "#%%\n"
    }
   }
  },
  {
   "cell_type": "code",
   "execution_count": null,
   "outputs": [],
   "source": [
    "compound_batch = compound_lib.get_batch('CPD-000006-0001')\n",
    "svg_file = compound_batch.get_chemical_drawing(ChemicalDrawingFormat.SVG)\n",
    "SVG(data=svg_file.content)"
   ],
   "metadata": {
    "collapsed": false,
    "pycharm": {
     "name": "#%%\n"
    }
   }
  },
  {
   "cell_type": "code",
   "execution_count": null,
   "outputs": [],
   "source": [
    "primer_asset = primer_lib.get_asset('PKI-000022')\n",
    "try:\n",
    "    primer_asset.get_chemical_drawing(ChemicalDrawingFormat.SVG)\n",
    "except SignalsNotebookError as e:\n",
    "    print(e)"
   ],
   "metadata": {
    "collapsed": false,
    "pycharm": {
     "name": "#%%\n"
    }
   }
  },
  {
   "cell_type": "code",
   "execution_count": null,
   "outputs": [],
   "source": [
    "reagents_lib = libraries_dict['Reagents (SNB)']\n",
    "reagent_asset = reagents_lib.get_asset(' 0003')  # try ' 0003', beautiful rendering\n",
    "print(reagent_asset['Chemical Name'])\n",
    "svg_file = reagent_asset.get_chemical_drawing(ChemicalDrawingFormat.SVG)\n",
    "SVG(data=svg_file.content)"
   ],
   "metadata": {
    "collapsed": false,
    "pycharm": {
     "name": "#%%\n"
    }
   }
  },
  {
   "cell_type": "markdown",
   "source": [
    "# Get image"
   ],
   "metadata": {
    "collapsed": false,
    "pycharm": {
     "name": "#%% md\n"
    }
   }
  },
  {
   "cell_type": "code",
   "execution_count": null,
   "outputs": [],
   "source": [
    "from IPython.display import Image\n",
    "animal_lib = libraries_dict['Lab animal']\n",
    "animal_asset = animal_lib.get_asset('0001,')\n",
    "image_file = animal_asset.get_image()\n",
    "print(image_file.name)\n",
    "Image(image_file.content)"
   ],
   "metadata": {
    "collapsed": false,
    "pycharm": {
     "name": "#%%\n"
    }
   }
  },
  {
   "cell_type": "code",
   "execution_count": null,
   "outputs": [],
   "source": [
    "plasmids_lib = libraries_dict['Plasmids']\n",
    "plasmid_asset = plasmids_lib.get_asset('PKI-000001')\n",
    "image_file = plasmid_asset.get_image()\n",
    "print(image_file.name)\n",
    "Image(image_file.content)"
   ],
   "metadata": {
    "collapsed": false,
    "pycharm": {
     "name": "#%%\n"
    }
   }
  },
  {
   "cell_type": "code",
   "execution_count": null,
   "outputs": [],
   "source": [
    "equipment_lib = libraries_dict['Equipment']\n",
    "equipment_batch = equipment_lib.get_batch('EQ-000017-0001')\n",
    "image_file = equipment_batch.get_image()\n",
    "print(image_file.name)\n",
    "Image(image_file.content)"
   ],
   "metadata": {
    "collapsed": false,
    "pycharm": {
     "name": "#%%\n"
    }
   }
  },
  {
   "cell_type": "markdown",
   "source": [
    "# Get bio sequence\n"
   ],
   "metadata": {
    "collapsed": false,
    "pycharm": {
     "name": "#%% md\n"
    }
   }
  },
  {
   "cell_type": "code",
   "execution_count": null,
   "outputs": [],
   "source": [
    "dna_lib = libraries_dict['DNAMaterials']\n",
    "dna_asset = dna_lib.get_asset('DNAM-0001')\n",
    "sequence_file = dna_asset.get_bio_sequence()\n",
    "print(sequence_file.content.decode('utf-8'))"
   ],
   "metadata": {
    "collapsed": false,
    "pycharm": {
     "name": "#%%\n"
    }
   }
  },
  {
   "cell_type": "markdown",
   "source": [
    "# Update material properties\n"
   ],
   "metadata": {
    "collapsed": false,
    "pycharm": {
     "name": "#%% md\n"
    }
   }
  },
  {
   "cell_type": "code",
   "execution_count": null,
   "outputs": [],
   "source": [
    "units_lib = libraries_dict['Units']\n",
    "asset = units_lib.get_asset('UNT-0002')\n",
    "asset['Custom Field 1 (SK)']"
   ],
   "metadata": {
    "collapsed": false,
    "pycharm": {
     "name": "#%%\n"
    }
   }
  },
  {
   "cell_type": "code",
   "execution_count": null,
   "outputs": [],
   "source": [
    "from signals_notebook.common_types import File\n",
    "from signals_notebook.entities import EntityStore\n",
    "\n",
    "chemDraw = EntityStore.get('chemicalDrawing:2fc7a20f-e74c-4142-b4fa-cfa2fab41c58')\n",
    "\n",
    "file = File.read('/Users/evgeniy.pokidov/Pictures/quantori.png')\n",
    "asset['Unit Name'] = 'Updated from SDK'\n",
    "asset['Units Image'] = file\n",
    "asset['Custom Field 1 (SK)'] = chemDraw\n",
    "asset.save()\n"
   ],
   "metadata": {
    "collapsed": false,
    "pycharm": {
     "name": "#%%\n"
    }
   }
  },
  {
   "cell_type": "code",
   "execution_count": null,
   "outputs": [],
   "source": [
    "from signals_notebook.entities.entity_store import EntityStore\n",
    "\n",
    "chemDraw = EntityStore.get('text:dc023925-847c-4d25-9aa2-c9f58fa0fc8a')\n",
    "\n",
    "batch = units_lib.get_batch('UNT-0002-0002')\n",
    "batch['Originating Experiment'] = chemDraw\n",
    "batch.save()\n",
    "\n"
   ],
   "metadata": {
    "collapsed": false,
    "pycharm": {
     "name": "#%%\n"
    }
   }
  },
  {
   "cell_type": "markdown",
   "source": [],
   "metadata": {
    "collapsed": false,
    "pycharm": {
     "name": "#%% md\n"
    }
   }
  },
  {
   "cell_type": "code",
   "execution_count": 5,
   "outputs": [],
   "source": [
    "from signals_notebook.common_types import MID\n",
    "from signals_notebook.entities.entity_store import EntityStore\n",
    "from signals_notebook.materials import MaterialStore\n",
    "\n",
    "unit_lib = MaterialStore.get(MID('assetType:619656d40669900007d69414'))\n",
    "text = EntityStore.get('text:dc023925-847c-4d25-9aa2-c9f58fa0fc8a')\n",
    "\n",
    "\n",
    "batch = unit_lib.create_batch(asset_name = 'UNT-0002', batch_fields={'Originating Experiment': text})\n",
    "batch.delete()"
   ],
   "metadata": {
    "collapsed": false,
    "pycharm": {
     "name": "#%%\n"
    }
   }
  },
  {
   "cell_type": "code",
   "execution_count": 6,
   "outputs": [],
   "source": [
    "asset_with_batches = unit_lib.create_asset_with_batches(asset_with_batch_fields={\n",
    "    \"asset\":{\"Unit Name\": \"Created\"},\n",
    "    \"batch\":{'Originating Experiment': text}\n",
    "})\n",
    "asset_with_batches.delete()"
   ],
   "metadata": {
    "collapsed": false,
    "pycharm": {
     "name": "#%%\n"
    }
   }
  },
  {
   "cell_type": "markdown",
   "source": [
    "# Export materials"
   ],
   "metadata": {
    "collapsed": false,
    "pycharm": {
     "name": "#%% md\n"
    }
   }
  },
  {
   "cell_type": "code",
   "execution_count": null,
   "outputs": [],
   "source": [
    "compounds_lib = libraries_dict['Compounds']\n",
    "\n",
    "compounds_lib.get_content()"
   ],
   "metadata": {
    "collapsed": false,
    "pycharm": {
     "name": "#%%\n"
    }
   }
  },
  {
   "cell_type": "markdown",
   "source": [
    "# Import materials in JSON and ZIP format"
   ],
   "metadata": {
    "collapsed": false,
    "pycharm": {
     "name": "#%% md\n"
    }
   }
  },
  {
   "cell_type": "code",
   "execution_count": 5,
   "outputs": [],
   "source": [
    "from signals_notebook.common_types import File\n",
    "\n",
    "units_lib = libraries_dict['Units']\n",
    "\n",
    "materials_file = File(open('files/Units-example.zip', mode='rb'))\n",
    "\n",
    "units_lib.bulk_import(materials_file, import_type='zip')"
   ],
   "metadata": {
    "collapsed": false,
    "pycharm": {
     "name": "#%%\n"
    }
   }
  },
  {
   "cell_type": "code",
   "execution_count": null,
   "outputs": [],
   "source": [
    "from signals_notebook.common_types import MID\n",
    "from signals_notebook.entities.entity_store import EntityStore\n",
    "from signals_notebook.materials import MaterialStore\n",
    "\n",
    "unit_lib = MaterialStore.get(MID('assetType:619656d40669900007d69414'))\n",
    "text = EntityStore.get('text:dc023925-847c-4d25-9aa2-c9f58fa0fc8a')\n",
    "\n",
    "units_lib.bulk_import(\n",
    "    [\n",
    "        {\n",
    "            \"asset\":{\"Unit Name\": \"first\"},\n",
    "            \"batch\":{'Originating Experiment': text}\n",
    "        },\n",
    "        {\n",
    "            \"asset\":{\"Unit Name\": \"second\"},\n",
    "            \"batch\":{'Originating Experiment': text}\n",
    "        }\n",
    "    ])\n"
   ],
   "metadata": {
    "collapsed": false,
    "pycharm": {
     "name": "#%%\n"
    }
   }
  }
 ],
 "metadata": {
  "kernelspec": {
   "display_name": "Python 3",
   "language": "python",
   "name": "python3"
  },
  "language_info": {
   "codemirror_mode": {
    "name": "ipython",
    "version": 2
   },
   "file_extension": ".py",
   "mimetype": "text/x-python",
   "name": "python",
   "nbconvert_exporter": "python",
   "pygments_lexer": "ipython2",
   "version": "2.7.6"
  }
 },
 "nbformat": 4,
 "nbformat_minor": 0
}